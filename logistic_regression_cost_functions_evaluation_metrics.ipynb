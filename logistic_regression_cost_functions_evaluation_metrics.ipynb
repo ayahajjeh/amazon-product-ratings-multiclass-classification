{
  "cells": [
    {
      "cell_type": "markdown",
      "source": [
        "# Logistic Regression, Cross Entropy Cost, Perceptron Cost, and Evaluation Metrics\n"
      ],
      "metadata": {
        "id": "T4QpN207Fg5a"
      }
    },
    {
      "cell_type": "markdown",
      "metadata": {
        "id": "7flPLB_W_pRw"
      },
      "source": [
        "Please run the cell below to import libraries needed for this project."
      ]
    },
    {
      "cell_type": "code",
      "execution_count": 1,
      "metadata": {
        "id": "52dyLKp8_pRx"
      },
      "outputs": [],
      "source": [
        "import autograd.numpy as np\n",
        "from autograd import grad\n",
        "import matplotlib.pyplot as plt\n",
        "%matplotlib inline"
      ]
    },
    {
      "cell_type": "markdown",
      "metadata": {
        "id": "v8UJtvmB_pRy"
      },
      "source": [
        "Q1) Implement the sigmod function. The function takes a value, x, as input and returns the sigmoid function applied to the value."
      ]
    },
    {
      "cell_type": "code",
      "execution_count": 2,
      "metadata": {
        "id": "LKNQLImi_pRy"
      },
      "outputs": [],
      "source": [
        "def sigmoid(x):\n",
        "    y = 1/(1 + np.exp(-x))\n",
        "    return y"
      ]
    },
    {
      "cell_type": "markdown",
      "metadata": {
        "id": "X-ft-9-B_pRy"
      },
      "source": [
        "Q2) Implement the logistic regression model and the cross entropy cost function. Note that the logistic regression model relies on the sigmoid function (which you have implemented above) and the linear  model (which you have implemented in HW2). You can use the linear model from HW2 for this problem. Similar to the least-squares cost, the cross entropy cost takes in as input an array of weights, w, an array of x's and an array of ys and return a float indicating the total cost."
      ]
    },
    {
      "cell_type": "code",
      "execution_count": 3,
      "metadata": {
        "id": "FxFHCq6A_pRy"
      },
      "outputs": [],
      "source": [
        "# Your linear model from HW2\n",
        "def model(x,w):\n",
        "    y = w[0] + np.dot(x.T, w[1:])\n",
        "    return y\n",
        "\n",
        "# The logistic regression cross entropy cost\n",
        "def cross_entropy(w,x,y):\n",
        "    # calculate predicted ys\n",
        "    y_predicted = sigmoid(model(x,w))\n",
        "\n",
        "    # calculate the cross entropy cost when y=0\n",
        "    y_zeros = np.argwhere(y==0)[:,1]\n",
        "    cost = np.sum(np.log(1 - y_predicted[y_zeros]))\n",
        "\n",
        "    # calculate the cross entropy cost when y=1\n",
        "    y_ones = np.argwhere(y==1)[:,1]\n",
        "    cost += np.sum(np.log(y_predicted[y_ones]))\n",
        "\n",
        "    # divide by the number of points and negate the sum\n",
        "    cost = (-1)*(cost/y.size)\n",
        "    return cost"
      ]
    },
    {
      "cell_type": "markdown",
      "metadata": {
        "id": "fb6514tF_pRy"
      },
      "source": [
        "Run the code below to read a data file and plot a scatter plot of x vs y."
      ]
    },
    {
      "cell_type": "code",
      "execution_count": 4,
      "metadata": {
        "id": "IflAu39E_pRy",
        "colab": {
          "base_uri": "https://localhost:8080/",
          "height": 448
        },
        "outputId": "81a7c3a5-0860-4cf3-a96d-0221c7ccda0d"
      },
      "outputs": [
        {
          "output_type": "execute_result",
          "data": {
            "text/plain": [
              "<matplotlib.collections.PathCollection at 0x7ca5541d5c90>"
            ]
          },
          "metadata": {},
          "execution_count": 4
        },
        {
          "output_type": "display_data",
          "data": {
            "text/plain": [
              "<Figure size 640x480 with 1 Axes>"
            ],
            "image/png": "[encoded data removed]"
          },
          "metadata": {}
        }
      ],
      "source": [
        "csvname = '2d_classification_data_v1_entropy.csv'\n",
        "data = np.loadtxt(csvname,delimiter = ',')\n",
        "x = data[:-1,:]\n",
        "y = data[-1:,:]\n",
        "\n",
        "plt.scatter(x,y)"
      ]
    },
    {
      "cell_type": "markdown",
      "metadata": {
        "id": "OTVuxR0r_pRy"
      },
      "source": [
        "Q3) Implement a gradient descent function. Run the function using the cross_entropy cost and the x and y from above. The parameters should be set to: max_its=1500,w=[3.0,3.0 ], and alpha=1. Save the cost and weight history returned by the gradient descent function. Plot the cost history.\n"
      ]
    },
    {
      "cell_type": "code",
      "execution_count": 5,
      "metadata": {
        "id": "Uh_STKBu_pRy"
      },
      "outputs": [],
      "source": [
        "##gradient descent\n",
        "def gradient_descent(g,alpha,max_its,w,x,y):\n",
        "    gradient = grad(g)\n",
        "    weights = np.array(w)\n",
        "    weight_history = np.array([weights])\n",
        "    cost_history = [g(w,x,y)]\n",
        "\n",
        "    for i in range(max_its):\n",
        "      step = gradient(weights, x, y)\n",
        "\n",
        "      for k in range (len(weights)):\n",
        "        weights[k] -= (alpha * step[k])\n",
        "\n",
        "      weight_history = np.insert(np.array(weight_history), i+1, np.array(weights), axis=0)\n",
        "      cost = g(weights, x, y)\n",
        "      cost_history.append(cost)\n",
        "    return weight_history, cost_history"
      ]
    },
    {
      "cell_type": "code",
      "execution_count": 6,
      "metadata": {
        "id": "ddCJ7iBZ_pRz",
        "colab": {
          "base_uri": "https://localhost:8080/",
          "height": 470
        },
        "outputId": "ef4f9542-f363-4a97-b6b0-30cb5696eaf8"
      },
      "outputs": [
        {
          "output_type": "execute_result",
          "data": {
            "text/plain": [
              "Text(0.5, 1.0, 'cost history')"
            ]
          },
          "metadata": {},
          "execution_count": 6
        },
        {
          "output_type": "display_data",
          "data": {
            "text/plain": [
              "<Figure size 640x480 with 1 Axes>"
            ],
            "image/png": "[encoded data removed]"
          },
          "metadata": {}
        }
      ],
      "source": [
        "##Call the gradient_descent function here\n",
        "max_its = 1500\n",
        "w = np.array([3.0,3.0])\n",
        "alpha = 1\n",
        "weight_history, cost_history = gradient_descent(cross_entropy, alpha, max_its, w, x, y)\n",
        "\n",
        "##Plot the cost history here\n",
        "plt.plot(cost_history)\n",
        "plt.title(\"cost history\")"
      ]
    },
    {
      "cell_type": "markdown",
      "metadata": {
        "id": "xBgikNKF_pRz"
      },
      "source": [
        "Q4) Implement a logistic regression classifier that takes in the learned weights and x as input and returns the probability of the positive class (note that this is just the output of the sigmoid applied to the linear combination of the x and w)"
      ]
    },
    {
      "cell_type": "code",
      "execution_count": 7,
      "metadata": {
        "id": "958J3ZPY_pRz"
      },
      "outputs": [],
      "source": [
        "def logistic_regression(learned_w,x):\n",
        "    y_predicted = model(x, learned_w)\n",
        "    positive_class_prob = sigmoid(y_predicted)\n",
        "    return positive_class_prob"
      ]
    },
    {
      "cell_type": "markdown",
      "metadata": {
        "id": "dRqczx_B_pRz"
      },
      "source": [
        "Q5) Use the learned weights from the last gradient descent run and the logistic regression function implemented above to plot the learned curve. You can use the linspace method (shown below) to generate a list of xs that you can use. You need to generate a y for each of the candidate xs using the logistic regression function and the learned weights. On the same figure, also plot the scatter plot from before.\n"
      ]
    },
    {
      "cell_type": "code",
      "execution_count": 8,
      "metadata": {
        "id": "CNMBKyh8_pRz",
        "colab": {
          "base_uri": "https://localhost:8080/",
          "height": 430
        },
        "outputId": "c721f345-109f-4d73-cfbc-3dc58b629bd4"
      },
      "outputs": [
        {
          "output_type": "display_data",
          "data": {
            "text/plain": [
              "<Figure size 640x480 with 1 Axes>"
            ],
            "image/png": "[encoded data removed]"
          },
          "metadata": {}
        }
      ],
      "source": [
        "# using the linspace method to generate a list of xs that I can use for plotting\n",
        "s = np.linspace(np.min(x),np.max(x))\n",
        "\n",
        "# picking the weights with the lowest cost\n",
        "minimum_cost_index = np.argmin(cost_history)\n",
        "learned_weights = weight_history[minimum_cost_index]\n",
        "candidate_ys = []\n",
        "\n",
        "# generating a y for each of the candidate xs using the learned weights and the logistic regression function\n",
        "for element in s:\n",
        "  candidate_ys.append(logistic_regression(learned_weights, element))\n",
        "\n",
        "# plot the learned curve and the scatter plot from above\n",
        "plt.plot(s, candidate_ys, color = \"red\")\n",
        "plt.scatter(x,y)\n",
        "plt.show()"
      ]
    },
    {
      "cell_type": "markdown",
      "metadata": {
        "id": "v46mI5OD_pRz"
      },
      "source": [
        "Q6) Slightly modify the logistic regression model above so that it returns a 1 or 0 based on the specified threshold."
      ]
    },
    {
      "cell_type": "code",
      "execution_count": 9,
      "metadata": {
        "id": "h4Q_Rb89_pRz"
      },
      "outputs": [],
      "source": [
        "def logistic_regression_modified(learned_w, x, threshold):\n",
        "    # calculate predicted ys\n",
        "    y_predicted = []\n",
        "    positive_class_prob = []\n",
        "\n",
        "    for element in x:\n",
        "      y_predicted.append(model(element, learned_w))\n",
        "      # calculate class probability\n",
        "      positive_class_prob.append(sigmoid(element))\n",
        "\n",
        "    class_label = []\n",
        "    # modify the probability based on the threshold\n",
        "    for prob in positive_class_prob:\n",
        "        if prob >= threshold:\n",
        "          class_label.append(1)\n",
        "        if prob < threshold:\n",
        "          class_label.append(0)\n",
        "\n",
        "    class_label = np.array(class_label)\n",
        "    return class_label"
      ]
    },
    {
      "cell_type": "markdown",
      "metadata": {
        "id": "Suo1vYlo_pRz"
      },
      "source": [
        "Q7) Write a function (called evaluate) that takes in actual and predicted ys (for a binary classification problem) and return a confusion matrix and the accuracy. Use the modified logistic regression model and the evaluate function below to report the confusion matrix and accuracy for the x and y used for our training at a threshold of 0.5.  "
      ]
    },
    {
      "cell_type": "code",
      "execution_count": 10,
      "metadata": {
        "id": "L3FaIpHI_pR0",
        "colab": {
          "base_uri": "https://localhost:8080/"
        },
        "outputId": "a36e8476-c21c-4809-bc93-e4001f253d2a"
      },
      "outputs": [
        {
          "output_type": "stream",
          "name": "stdout",
          "text": [
            "true negative 6\n",
            "false positive:  0\n",
            "false negative:  4\n",
            "true positive:  1\n",
            "confusion matrix is:\n",
            "[[ 6 0 ]\n",
            " [ 4 1 ]]\n",
            "accuracy is:  0.6363636363636364\n"
          ]
        }
      ],
      "source": [
        "from sklearn.metrics import confusion_matrix\n",
        "\n",
        "def evaluate(y_actual,y_pred):\n",
        "    # confusion matrix\n",
        "    confusion_matrix_result = confusion_matrix(y_actual, y_pred, labels=[1,0])\n",
        "\n",
        "    true_negative = confusion_matrix_result[0][0]\n",
        "    false_positive = confusion_matrix_result[0][1]\n",
        "    false_negative = confusion_matrix_result[1][0]\n",
        "    true_positive = confusion_matrix_result[1][1]\n",
        "\n",
        "    # accuracy of the model\n",
        "    accuracy = (true_positive + true_negative)/(true_positive + false_positive + false_negative + true_negative)\n",
        "\n",
        "    return false_positive, false_negative, true_positive, true_negative, accuracy\n",
        "\n",
        "# report the confusion matrix and accuracy for the x and y used for our training\n",
        "threshold = 0.5\n",
        "\n",
        "# generating a y for each of the candidate xs using the learned weights and the modified logistic regression function\n",
        "candidate_ys = (logistic_regression_modified(learned_weights, x[0], threshold))\n",
        "\n",
        "# report the confusion matrix and accuracy for the x and y used for our training\n",
        "false_positive, false_negative, true_positive, true_negative, accuracy = evaluate(y[0], candidate_ys)\n",
        "\n",
        "print(\"true negative\", true_negative)\n",
        "print(\"false positive: \", false_positive)\n",
        "print(\"false negative: \", false_negative)\n",
        "print(\"true positive: \", true_positive)\n",
        "print(\"confusion matrix is:\")\n",
        "print(\"[[\", true_negative, false_positive, \"]\")\n",
        "print(\" [\", false_negative, true_positive, \"]]\")\n",
        "print(\"accuracy is: \", accuracy)"
      ]
    },
    {
      "cell_type": "markdown",
      "metadata": {
        "id": "ZVD4Z3Ub_pR0"
      },
      "source": [
        "Q8) Implement the perceptron cost function from the class (the softmax version). Note that the perceptron cost also uses the linear model (the model function from question 2)."
      ]
    },
    {
      "cell_type": "code",
      "execution_count": 11,
      "metadata": {
        "id": "dxEGYSoP_pR0"
      },
      "outputs": [],
      "source": [
        "def perceptron_cost(w,x,y):\n",
        "  # calculate predicted values\n",
        "  y_predicted = model(x, w)\n",
        "  cost = 0\n",
        "\n",
        "  # loop over all the points\n",
        "  for i in range(y_predicted.size):\n",
        "      # add up the cost of each point\n",
        "      cost += np.log(1 + np.exp(-y[0][i]*y_predicted[i]))\n",
        "\n",
        "  return cost"
      ]
    },
    {
      "cell_type": "markdown",
      "metadata": {
        "id": "lhYnvgTY_pR0"
      },
      "source": [
        "Q9)\n",
        "* Run gradient descent function using the perceptron cost and the x and y from above and the parameters set to: max_its=1500,w=[1.0,1.0], and alpha=1.0.\n",
        "* Save the cost and weight history returned by the gradient descent function.\n",
        "* Plot the cost history.\n",
        "* Answer: Which cost seems to do better on this dataset? Why do think that is?\n"
      ]
    },
    {
      "cell_type": "code",
      "execution_count": 12,
      "metadata": {
        "id": "877mY-4g_pR0",
        "colab": {
          "base_uri": "https://localhost:8080/",
          "height": 470
        },
        "outputId": "cca5a920-9565-45fe-b837-a3b76421567a"
      },
      "outputs": [
        {
          "output_type": "execute_result",
          "data": {
            "text/plain": [
              "Text(0.5, 1.0, 'cost history')"
            ]
          },
          "metadata": {},
          "execution_count": 12
        },
        {
          "output_type": "display_data",
          "data": {
            "text/plain": [
              "<Figure size 640x480 with 1 Axes>"
            ],
            "image/png": "[encoded data removed]"
          },
          "metadata": {}
        }
      ],
      "source": [
        "##Call the gradient_descent function here\n",
        "max_its = 1500\n",
        "w = np.array([1.0, 1.0])\n",
        "alpha = 1.0\n",
        "weight_history, cost_history = gradient_descent(perceptron_cost, alpha, max_its, w, x, y)\n",
        "\n",
        "##Plot the cost history here\n",
        "plt.plot(cost_history)\n",
        "plt.title(\"cost history\")"
      ]
    },
    {
      "cell_type": "markdown",
      "source": [
        "solely looking at the cost history, it seems like the softmax perceptron cost function does better on this data set because it converges to its lowest cost way faster than the cross entropy does. For the softmax perceptron cost function, the graph converges to its lowest cost at around iteration number 100, whereas for the cross entropy cost function, the data converges to its lowest cost between iteration number 200 and 400."
      ],
      "metadata": {
        "id": "lzzzzUMq_yrd"
      }
    },
    {
      "cell_type": "markdown",
      "metadata": {
        "id": "qGyY2koB_pR0"
      },
      "source": [
        "Q10) The file 'heart.csv' has 304 lines, each one corresponding to a data point. Each row (i.e., data point), has several columns.\n",
        "\n",
        "* Read the data file. (Note that the first line is the header describing each column.)\n",
        "* Use the data above to set y to be the \"target\" and X to be the remaining columns.\n",
        "* Split your data into 80% train 20% test using train_test_split.\n",
        "* Use sklearn to fit a logistic regression model on your training set. Use all the default parameters. Do not evaluate at this point."
      ]
    },
    {
      "cell_type": "code",
      "execution_count": 13,
      "metadata": {
        "id": "lJ6qvvgw_pR0",
        "colab": {
          "base_uri": "https://localhost:8080/"
        },
        "outputId": "8e8b004c-3c3b-4f41-ba5e-4892049c71a1"
      },
      "outputs": [
        {
          "output_type": "stream",
          "name": "stdout",
          "text": [
            "age          63.0\n",
            "sex           1.0\n",
            "cp            3.0\n",
            "trestbps    145.0\n",
            "chol        233.0\n",
            "fbs           1.0\n",
            "restecg       0.0\n",
            "thalach     150.0\n",
            "exang         0.0\n",
            "oldpeak       2.3\n",
            "slope         0.0\n",
            "ca            0.0\n",
            "thal          1.0\n",
            "target        1.0\n",
            "Name: 0, dtype: float64\n"
          ]
        }
      ],
      "source": [
        "## import logistic regression and the train_test split functions from sklearn\n",
        "from sklearn.linear_model import LogisticRegression\n",
        "from sklearn.model_selection import train_test_split\n",
        "import pandas as pd\n",
        "\n",
        "train_data = pd.read_csv(\"/content/heart.csv\")\n",
        "# get first row using row position\n",
        "print(train_data.iloc[0])\n",
        "X = train_data[[\"age\", \"sex\", \"cp\", \"trestbps\", \"chol\", \"fbs\", \"restecg\", \"thalach\", \"exang\", \"oldpeak\", \"slope\", \"ca\", \"thal\"]]\n",
        "y = train_data[\"target\"]\n",
        "\n",
        "# split your data into 80% train 20% test using train_test_split\n",
        "x_train, x_test, y_train, y_test = train_test_split(X, y, test_size = 0.2)\n",
        "\n",
        "# fit a logistic regression model on your training set\n",
        "# use all the default parameters\n",
        "log_reg = LogisticRegression(max_iter=1000)\n",
        "log_reg_model = log_reg.fit(x_train, y_train)"
      ]
    },
    {
      "cell_type": "markdown",
      "metadata": {
        "id": "hFwuvl_W_pR1"
      },
      "source": [
        "Q11) Use the .predict_proba function of the logistic regression model that you have learned on your X_test. Note that the .predict_proba function returns an array of tuples where each element corresponds to the predicted probability for class 0 and 1 of the data point."
      ]
    },
    {
      "cell_type": "code",
      "execution_count": 14,
      "metadata": {
        "id": "Fc94rZDs_pR2"
      },
      "outputs": [],
      "source": [
        "probability = log_reg_model.predict_proba(x_test)"
      ]
    },
    {
      "cell_type": "markdown",
      "metadata": {
        "id": "DdislPDJ_pR2"
      },
      "source": [
        "Q12) Now you will report your results.\n",
        "\n",
        "* Filter the predicted probabilties from the last question to an array containing only the probabilites for class 1. (I.e., you should no longer have tuples.)\n",
        "* Use the roc_curve function from sklearn (https://scikit-learn.org/stable/modules/generated/sklearn.metrics.roc_curve.html) to plot the ROC curve for your predictions using the predicted probabilities for class 1 and your y_test (use the default parameters).\n",
        "* Print out the thresholds generated by the roc_curve function.\n",
        "* Use the roc_auc_score function from sklearn (https://scikit-learn.org/stable/modules/generated/sklearn.metrics.roc_auc_score.html#sklearn.metrics.roc_auc_score) to report the AUC score."
      ]
    },
    {
      "cell_type": "code",
      "execution_count": 15,
      "metadata": {
        "id": "Tkj9R0vZ_pR2"
      },
      "outputs": [],
      "source": [
        "# filter the predicted probabilties from the last question\n",
        "# to an array containing only the probabilites for class 1\n",
        "probability_class_1 = []\n",
        "for pair in probability:\n",
        "    probability_class_1.append(pair[1])"
      ]
    },
    {
      "cell_type": "code",
      "source": [
        "# use the roc_curve function to plot the ROC curve for your predictions\n",
        "# using the predicted probabilities for class 1 and your y_test\n",
        "# use the default parameters\n",
        "from sklearn.metrics import roc_curve\n",
        "fpr, tpr, thresholds = roc_curve(y_test, probability_class_1)\n",
        "\n",
        "#create ROC curve\n",
        "plt.plot(fpr, tpr)\n",
        "plt.ylabel('True Positive Rate')\n",
        "plt.xlabel('False Positive Rate')\n",
        "plt.show()"
      ],
      "metadata": {
        "colab": {
          "base_uri": "https://localhost:8080/",
          "height": 449
        },
        "id": "aTkQmodbDlIo",
        "outputId": "b2aaa5af-9dca-4ee5-84d4-07ec8484eefc"
      },
      "execution_count": 16,
      "outputs": [
        {
          "output_type": "display_data",
          "data": {
            "text/plain": [
              "<Figure size 640x480 with 1 Axes>"
            ],
            "image/png": "[encoded data removed]"
          },
          "metadata": {}
        }
      ]
    },
    {
      "cell_type": "code",
      "source": [
        "# print out the thresholds generated by the roc_curve function\n",
        "print(thresholds)"
      ],
      "metadata": {
        "colab": {
          "base_uri": "https://localhost:8080/"
        },
        "id": "UrCAHXmnD40U",
        "outputId": "55488bc5-d36d-4218-b9af-dd8d7c57aa21"
      },
      "execution_count": 17,
      "outputs": [
        {
          "output_type": "stream",
          "name": "stdout",
          "text": [
            "[1.99526147 0.99526147 0.91865195 0.91760673 0.82238161 0.81002449\n",
            " 0.79493756 0.77211056 0.62603436 0.60134098 0.5980171  0.53938676\n",
            " 0.52355112 0.00695091]\n"
          ]
        }
      ]
    },
    {
      "cell_type": "code",
      "source": [
        "# use the roc_auc_score function\n",
        "from sklearn.metrics import roc_auc_score\n",
        "auc = roc_auc_score(y_test, probability_class_1)\n",
        "print(\"ROC AUC score is\", auc)"
      ],
      "metadata": {
        "id": "FApMfK7pFPE4",
        "colab": {
          "base_uri": "https://localhost:8080/"
        },
        "outputId": "2b0f8914-aa97-41ab-c613-41e4e5a4aafe"
      },
      "execution_count": 18,
      "outputs": [
        {
          "output_type": "stream",
          "name": "stdout",
          "text": [
            "ROC AUC score is 0.9458874458874459\n"
          ]
        }
      ]
    }
  ],
  "metadata": {
    "kernelspec": {
      "display_name": "Python 3 (ipykernel)",
      "language": "python",
      "name": "python3"
    },
    "language_info": {
      "codemirror_mode": {
        "name": "ipython",
        "version": 3
      },
      "file_extension": ".py",
      "mimetype": "text/x-python",
      "name": "python",
      "nbconvert_exporter": "python",
      "pygments_lexer": "ipython3",
      "version": "3.8.12"
    },
    "colab": {
      "provenance": []
    }
  },
  "nbformat": 4,
  "nbformat_minor": 0
}